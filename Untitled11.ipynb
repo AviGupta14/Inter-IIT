{
 "cells": [
  {
   "cell_type": "code",
   "execution_count": 1,
   "id": "9aec2291",
   "metadata": {},
   "outputs": [],
   "source": [
    "from zipline.api import(    symbol,\n",
    "                            order_target_percent,\n",
    "                            schedule_function,\n",
    "                            date_rules,\n",
    "                            time_rules,\n",
    "                            get_datetime\n",
    "                         )\n",
    "import talib as ta  "
   ]
  },
  {
   "cell_type": "code",
   "execution_count": 2,
   "id": "8f1f3e59",
   "metadata": {},
   "outputs": [],
   "source": [
    "def initialize(context):\n",
    "\n",
    "    context.stock = [ symbol('ASIANPAINT')]     \n",
    "\n",
    "    for i in range (1,390,15):\n",
    "        schedule_function(\n",
    "                    run_strategy,\n",
    "                    date_rules.every_day(),\n",
    "                    time_rules.market_open(minutes=i))"
   ]
  },
  {
   "cell_type": "code",
   "execution_count": 5,
   "id": "786aa89d",
   "metadata": {},
   "outputs": [],
   "source": [
    "def run_strategy(context,data):\n",
    "    \n",
    "    stock_data = data.history(context.stock, [\"close\"], 900,\"1m\" )\n",
    "    for stock in context.stock:\n",
    "        stock_data[\"close\"][stock] = (stock_data[\"close\"][stock]).resample(\"15T\", label=\"right\", closed=\"right\").last()\n",
    "\n",
    "    stock_data[\"close\"].dropna(inplace=True)\n",
    "    for stock in context.stock:\n",
    "        head_and_shoulders = ta.CDLHEADANDSHOULDERS(stock)\n",
    "        \n",
    "        if head_and_shoulders[-1] == 100:\n",
    "            order_target_percent(stock, 0)\n",
    "        elif head_and_shoulders[-1] == -100:\n",
    "            order_target_percent(stock, 1.0/10)"
   ]
  }
 ],
 "metadata": {
  "kernelspec": {
   "display_name": "Python 3 (ipykernel)",
   "language": "python",
   "name": "python3"
  },
  "language_info": {
   "codemirror_mode": {
    "name": "ipython",
    "version": 3
   },
   "file_extension": ".py",
   "mimetype": "text/x-python",
   "name": "python",
   "nbconvert_exporter": "python",
   "pygments_lexer": "ipython3",
   "version": "3.10.4"
  }
 },
 "nbformat": 4,
 "nbformat_minor": 5
}
